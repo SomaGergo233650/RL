{
 "cells": [
  {
   "cell_type": "code",
   "execution_count": 3,
   "metadata": {},
   "outputs": [],
   "source": [
    "from sim_class import Simulation\n",
    "\n",
    "# Initialize the simulation with a specified number of agents\n",
    "sim = Simulation(num_agents=1)  # For one robot\n"
   ]
  },
  {
   "cell_type": "code",
   "execution_count": null,
   "metadata": {},
   "outputs": [
    {
     "name": "stdout",
     "output_type": "stream",
     "text": [
      "top_top_left: [-0.18700268369174572, 0.21950042453496413, 0.2895126705007479]\n",
      "top_top_right: [0.2530032713727653, 0.21950138703355168, 0.28952088202505344]\n",
      "top_bottom_left: [-0.1870025170155038, -0.17050012146353008, 0.2895027035402047]\n",
      "top_bottom_right: [0.25300243545690027, -0.17050005099394053, 0.28951368204359584]\n",
      "bottom_top_left: [-0.18700197415931696, 0.21950025196020045, 0.16949892903945443]\n",
      "bottom_top_right: [0.2530010376533313, 0.21950033934574456, 0.16949946828754736]\n",
      "bottom_bottom_left: [-0.18700662642653432, -0.170609364469082, 0.16949971252634558]\n",
      "bottom_bottom_right: [0.2530890387697392, -0.17050369896803755, 0.16949820263744853]\n"
     ]
    }
   ],
   "source": [
    "# Initialize a dictionary to store pipette positions\n",
    "pipette_positions = {\n",
    "    'top_top_left': None,\n",
    "    'top_top_right': None,\n",
    "    'top_bottom_left': None,\n",
    "    'top_bottom_right': None,\n",
    "    'bottom_top_left': None,\n",
    "    'bottom_top_right': None,\n",
    "    'bottom_bottom_left': None,\n",
    "    'bottom_bottom_right': None\n",
    "}\n",
    "\n",
    "# Velocity commands for different pipette movements\n",
    "velocity_directions = {\n",
    "    'top_top_right': [0.1, 0.1, 1, 0],\n",
    "    'top_top_left': [-0.1, 0.1, 1, 0],\n",
    "    'top_bottom_right': [0.1, -0.1, 1, 0],\n",
    "    'top_bottom_left': [-0.1, -0.1, 1, 0],\n",
    "    'bottom_top_right': [0.1, 0.1, -0.1, 0],\n",
    "    'bottom_top_left': [-0.1, 0.1, -0.1, 0],\n",
    "    'bottom_bottom_right': [0.1, -0.1, -0.1, 0],\n",
    "    'bottom_bottom_left': [-0.1, -0.1, -0.1, 0]\n",
    "}\n",
    "\n",
    "# Define a movement sensitivity threshold\n",
    "movement_threshold = 0.0002\n",
    "\n",
    "def is_position_stable(prev_position, current_position, threshold):\n",
    "    \"\"\"Check if the position change is within the defined threshold.\"\"\"\n",
    "    return all(abs(prev - curr) < threshold for prev, curr in zip(prev_position, current_position))\n",
    "\n",
    "# Iterate through each point and determine final pipette positions\n",
    "for position_name, velocity in velocity_directions.items():\n",
    "    last_position = None\n",
    "\n",
    "    while True:\n",
    "        # Run simulation with the current velocity\n",
    "        sim.run([velocity], num_steps=1000)\n",
    "\n",
    "        # Get the current pipette position from the simulation\n",
    "        current_position = sim.get_pipette_position(1)\n",
    "\n",
    "        # Check if the pipette has stopped moving significantly\n",
    "        if last_position and is_position_stable(last_position, current_position, movement_threshold):\n",
    "            pipette_positions[position_name] = current_position\n",
    "            break  # Exit the loop once the position stabilizes\n",
    "\n",
    "        last_position = current_position\n",
    "\n",
    "# Output the collected pipette positions\n",
    "for name, position in pipette_positions.items():\n",
    "    print(f\"{name}: {position}\")\n",
    "\n",
    "# Clean up and close the simulation\n",
    "sim.close()\n"
   ]
  }
 ],
 "metadata": {
  "kernelspec": {
   "display_name": "robotics_env",
   "language": "python",
   "name": "python3"
  },
  "language_info": {
   "codemirror_mode": {
    "name": "ipython",
    "version": 3
   },
   "file_extension": ".py",
   "mimetype": "text/x-python",
   "name": "python",
   "nbconvert_exporter": "python",
   "pygments_lexer": "ipython3",
   "version": "3.9.21"
  }
 },
 "nbformat": 4,
 "nbformat_minor": 2
}
