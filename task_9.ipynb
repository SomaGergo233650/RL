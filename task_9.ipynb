{
 "cells": [
  {
   "cell_type": "code",
   "execution_count": null,
   "metadata": {},
   "outputs": [
    {
     "name": "stdout",
     "output_type": "stream",
     "text": [
      "Collecting clearml\n",
      "  Downloading clearml-1.17.0-py2.py3-none-any.whl.metadata (18 kB)\n",
      "Collecting attrs>=18.0 (from clearml)\n",
      "  Downloading attrs-24.3.0-py3-none-any.whl.metadata (11 kB)\n",
      "Collecting furl>=2.0.0 (from clearml)\n",
      "  Downloading furl-2.1.3-py2.py3-none-any.whl.metadata (1.2 kB)\n",
      "Collecting jsonschema>=2.6.0 (from clearml)\n",
      "  Downloading jsonschema-4.23.0-py3-none-any.whl.metadata (7.9 kB)\n",
      "Requirement already satisfied: numpy>=1.10 in c:\\users\\user\\anaconda3\\envs\\robotics_env\\lib\\site-packages (from clearml) (1.26.4)\n",
      "Collecting pathlib2>=2.3.0 (from clearml)\n",
      "  Downloading pathlib2-2.3.7.post1-py2.py3-none-any.whl.metadata (3.5 kB)\n",
      "Requirement already satisfied: Pillow>=4.1.1 in c:\\users\\user\\anaconda3\\envs\\robotics_env\\lib\\site-packages (from clearml) (11.1.0)\n",
      "Requirement already satisfied: psutil>=3.4.2 in c:\\users\\user\\anaconda3\\envs\\robotics_env\\lib\\site-packages (from clearml) (5.9.0)\n",
      "Requirement already satisfied: pyparsing>=2.0.3 in c:\\users\\user\\anaconda3\\envs\\robotics_env\\lib\\site-packages (from clearml) (3.2.1)\n",
      "Requirement already satisfied: python-dateutil>=2.6.1 in c:\\users\\user\\anaconda3\\envs\\robotics_env\\lib\\site-packages (from clearml) (2.9.0.post0)\n",
      "Collecting PyYAML>=3.12 (from clearml)\n",
      "  Downloading PyYAML-6.0.2-cp39-cp39-win_amd64.whl.metadata (2.1 kB)\n",
      "Collecting requests>=2.20.0 (from clearml)\n",
      "  Using cached requests-2.32.3-py3-none-any.whl.metadata (4.6 kB)\n",
      "Requirement already satisfied: six>=1.16.0 in c:\\users\\user\\anaconda3\\envs\\robotics_env\\lib\\site-packages (from clearml) (1.16.0)\n",
      "Collecting urllib3>=1.21.1 (from clearml)\n",
      "  Downloading urllib3-2.3.0-py3-none-any.whl.metadata (6.5 kB)\n",
      "Collecting pyjwt<2.10.0,>=2.4.0 (from clearml)\n",
      "  Downloading PyJWT-2.9.0-py3-none-any.whl.metadata (3.0 kB)\n",
      "Collecting referencing<0.40 (from clearml)\n",
      "  Downloading referencing-0.35.1-py3-none-any.whl.metadata (2.8 kB)\n",
      "Collecting orderedmultidict>=1.0.1 (from furl>=2.0.0->clearml)\n",
      "  Downloading orderedmultidict-1.0.1-py2.py3-none-any.whl.metadata (1.3 kB)\n",
      "Collecting jsonschema-specifications>=2023.03.6 (from jsonschema>=2.6.0->clearml)\n",
      "  Downloading jsonschema_specifications-2024.10.1-py3-none-any.whl.metadata (3.0 kB)\n",
      "Collecting rpds-py>=0.7.1 (from jsonschema>=2.6.0->clearml)\n",
      "  Downloading rpds_py-0.22.3-cp39-cp39-win_amd64.whl.metadata (4.2 kB)\n",
      "Collecting charset-normalizer<4,>=2 (from requests>=2.20.0->clearml)\n",
      "  Downloading charset_normalizer-3.4.1-cp39-cp39-win_amd64.whl.metadata (36 kB)\n",
      "Collecting idna<4,>=2.5 (from requests>=2.20.0->clearml)\n",
      "  Using cached idna-3.10-py3-none-any.whl.metadata (10 kB)\n",
      "Collecting certifi>=2017.4.17 (from requests>=2.20.0->clearml)\n",
      "  Downloading certifi-2024.12.14-py3-none-any.whl.metadata (2.3 kB)\n",
      "Downloading clearml-1.17.0-py2.py3-none-any.whl (1.2 MB)\n",
      "   ---------------------------------------- 0.0/1.2 MB ? eta -:--:--\n",
      "   ----------------- ---------------------- 0.5/1.2 MB 3.4 MB/s eta 0:00:01\n",
      "   ---------------------------------------- 1.2/1.2 MB 3.6 MB/s eta 0:00:00\n",
      "Downloading attrs-24.3.0-py3-none-any.whl (63 kB)\n",
      "Downloading furl-2.1.3-py2.py3-none-any.whl (20 kB)\n",
      "Downloading jsonschema-4.23.0-py3-none-any.whl (88 kB)\n",
      "Downloading pathlib2-2.3.7.post1-py2.py3-none-any.whl (18 kB)\n",
      "Downloading PyJWT-2.9.0-py3-none-any.whl (22 kB)\n",
      "Downloading PyYAML-6.0.2-cp39-cp39-win_amd64.whl (162 kB)\n",
      "Downloading referencing-0.35.1-py3-none-any.whl (26 kB)\n",
      "Using cached requests-2.32.3-py3-none-any.whl (64 kB)\n",
      "Downloading urllib3-2.3.0-py3-none-any.whl (128 kB)\n",
      "Downloading certifi-2024.12.14-py3-none-any.whl (164 kB)\n",
      "Downloading charset_normalizer-3.4.1-cp39-cp39-win_amd64.whl (102 kB)\n",
      "Using cached idna-3.10-py3-none-any.whl (70 kB)\n",
      "Downloading jsonschema_specifications-2024.10.1-py3-none-any.whl (18 kB)\n",
      "Downloading orderedmultidict-1.0.1-py2.py3-none-any.whl (11 kB)\n",
      "Downloading rpds_py-0.22.3-cp39-cp39-win_amd64.whl (231 kB)\n",
      "Installing collected packages: urllib3, rpds-py, PyYAML, pyjwt, pathlib2, orderedmultidict, idna, charset-normalizer, certifi, attrs, requests, referencing, furl, jsonschema-specifications, jsonschema, clearml\n",
      "Successfully installed PyYAML-6.0.2 attrs-24.3.0 certifi-2024.12.14 charset-normalizer-3.4.1 clearml-1.17.0 furl-2.1.3 idna-3.10 jsonschema-4.23.0 jsonschema-specifications-2024.10.1 orderedmultidict-1.0.1 pathlib2-2.3.7.post1 pyjwt-2.9.0 referencing-0.35.1 requests-2.32.3 rpds-py-0.22.3 urllib3-2.3.0\n",
      "Note: you may need to restart the kernel to use updated packages.\n"
     ]
    }
   ],
   "source": [
    "from sim_class import Simulation\n",
    "\n",
    "# Initialize the simulation with a specified number of agents\n",
    "sim = Simulation(num_agents=1)  # For one robot\n"
   ]
  },
  {
   "cell_type": "code",
   "execution_count": 2,
   "metadata": {},
   "outputs": [
    {
     "ename": "KeyboardInterrupt",
     "evalue": "",
     "output_type": "error",
     "traceback": [
      "\u001b[1;31m---------------------------------------------------------------------------\u001b[0m",
      "\u001b[1;31mKeyboardInterrupt\u001b[0m                         Traceback (most recent call last)",
      "Cell \u001b[1;32mIn[2], line 9\u001b[0m\n\u001b[0;32m      6\u001b[0m actions \u001b[38;5;241m=\u001b[39m [[velocity_x, velocity_y, velocity_z, drop_command]]\n\u001b[0;32m      8\u001b[0m \u001b[38;5;66;03m# Run the simulation for a specified number of steps\u001b[39;00m\n\u001b[1;32m----> 9\u001b[0m \u001b[43msim\u001b[49m\u001b[38;5;241;43m.\u001b[39;49m\u001b[43mrun\u001b[49m\u001b[43m(\u001b[49m\u001b[43mactions\u001b[49m\u001b[43m,\u001b[49m\u001b[43m \u001b[49m\u001b[43mnum_steps\u001b[49m\u001b[38;5;241;43m=\u001b[39;49m\u001b[38;5;241;43m1000\u001b[39;49m\u001b[43m)\u001b[49m\n",
      "File \u001b[1;32mc:\\Users\\User\\Documents\\GitHub\\2024-25b-fai2-adsai-SomaGergo233650\\datalab_tasks\\task9\\sim_class.py:251\u001b[0m, in \u001b[0;36mSimulation.run\u001b[1;34m(self, actions, num_steps)\u001b[0m\n\u001b[0;32m    248\u001b[0m         \u001b[38;5;66;03m#print(self.current_frame)\u001b[39;00m\n\u001b[0;32m    250\u001b[0m     \u001b[38;5;28;01mif\u001b[39;00m \u001b[38;5;28mself\u001b[39m\u001b[38;5;241m.\u001b[39mrender:\n\u001b[1;32m--> 251\u001b[0m         \u001b[43mtime\u001b[49m\u001b[38;5;241;43m.\u001b[39;49m\u001b[43msleep\u001b[49m\u001b[43m(\u001b[49m\u001b[38;5;241;43m1.\u001b[39;49m\u001b[38;5;241;43m/\u001b[39;49m\u001b[38;5;241;43m240.\u001b[39;49m\u001b[43m)\u001b[49m \u001b[38;5;66;03m# slow down the simulation\u001b[39;00m\n\u001b[0;32m    253\u001b[0m \u001b[38;5;28;01mreturn\u001b[39;00m \u001b[38;5;28mself\u001b[39m\u001b[38;5;241m.\u001b[39mget_states()\n",
      "\u001b[1;31mKeyboardInterrupt\u001b[0m: "
     ]
    }
   ],
   "source": [
    "# Example action: Move joints with specific velocities\n",
    "velocity_x = 0.1\n",
    "velocity_y = 0.1     \n",
    "velocity_z = 0.1\n",
    "drop_command = 0\n",
    "actions = [[velocity_x, velocity_y, velocity_z, drop_command]]\n",
    "\n",
    "# Run the simulation for a specified number of steps\n",
    "sim.run(actions, num_steps=1000)\n"
   ]
  }
 ],
 "metadata": {
  "kernelspec": {
   "display_name": "robotics_env",
   "language": "python",
   "name": "python3"
  },
  "language_info": {
   "codemirror_mode": {
    "name": "ipython",
    "version": 3
   },
   "file_extension": ".py",
   "mimetype": "text/x-python",
   "name": "python",
   "nbconvert_exporter": "python",
   "pygments_lexer": "ipython3",
   "version": "3.9.21"
  }
 },
 "nbformat": 4,
 "nbformat_minor": 2
}
